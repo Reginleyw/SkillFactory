{
 "cells": [
  {
   "cell_type": "code",
   "execution_count": null,
   "metadata": {},
   "outputs": [],
   "source": [
    "user_num = (int(input(\"Загадайте число от 1 до 100 \")))\n",
    "\n",
    "low = 1\n",
    "high = 100\n",
    "\n",
    "while True:\n",
    "    ans = (high + low)//2\n",
    "\n",
    "    print(\"Твоё число \" + str(ans) + \"?\")\n",
    "    check_ans = input(\"\"\"\n",
    "    введите 'h', если это число больше. \n",
    "    введите 'l', если это число меньше. \n",
    "    введите 'c', если это ваше число.\"\"\")\n",
    "\n",
    "    if check_ans == 'c':\n",
    "        print(\"Игра окончена. Это ваше число: \" + str(ans))\n",
    "        break\n",
    "\n",
    "    elif check_ans == 'l':\n",
    "        low = ans + 1\n",
    "\n",
    "    elif check_ans == 'h':\n",
    "        high = ans - 1\n",
    "\n",
    "    else:\n",
    "        print(\"Я не понимаю вашу команду\")"
   ]
  },
  {
   "cell_type": "code",
   "execution_count": 3,
   "metadata": {},
   "outputs": [
    {
     "name": "stdout",
     "output_type": "stream",
     "text": [
      "Загадано число от 1 до 100\n",
      "Вы угадали число 30 за 30 попыток.\n",
      "Ваш алгоритм угадывает число в среднем за  101  попыток\n"
     ]
    },
    {
     "data": {
      "text/plain": [
       "101"
      ]
     },
     "execution_count": 3,
     "metadata": {},
     "output_type": "execute_result"
    }
   ],
   "source": [
    "import numpy as np\n",
    "\n",
    "count = 0    \n",
    "number = np.random.randint(1,101)      # загадали число\n",
    "print (\"Загадано число от 1 до 100\")\n",
    "for count in range(1,101):         # более компактный вариант счетчика\n",
    "    if number == count: break      # выход из цикла, если угадали      \n",
    "print (f\"Вы угадали число {number} за {count} попыток.\")    \n",
    "    \n",
    "def game_core_v1(number):\n",
    "    count = 0\n",
    "    while True:\n",
    "        count+=1\n",
    "        predict = np.random.randint(1,101) # предполагаемое число\n",
    "        if number == predict: \n",
    "                return count # выход из цикла, если угадали\n",
    "        \n",
    "        \n",
    "def score_game(game_core):\n",
    "    count_ls = []\n",
    "    np.random.seed(1)  # фиксируем RANDOM SEED, чтобы ваш эксперимент был воспроизводим!\n",
    "    random_array = np.random.randint(1,101, size=(1000))\n",
    "    for number in random_array:\n",
    "        count_ls.append(game_core(number))\n",
    "    score = int(np.mean(count_ls))\n",
    "    print(\"Ваш алгоритм угадывает число в среднем за \", score, \" попыток\")\n",
    "    return(score)\n",
    "\n",
    "score_game(game_core_v1)"
   ]
  },
  {
   "cell_type": "code",
   "execution_count": null,
   "metadata": {},
   "outputs": [],
   "source": []
  }
 ],
 "metadata": {
  "kernelspec": {
   "display_name": "Python 3",
   "language": "python",
   "name": "python3"
  },
  "language_info": {
   "codemirror_mode": {
    "name": "ipython",
    "version": 3
   },
   "file_extension": ".py",
   "mimetype": "text/x-python",
   "name": "python",
   "nbconvert_exporter": "python",
   "pygments_lexer": "ipython3",
   "version": "3.8.5"
  }
 },
 "nbformat": 4,
 "nbformat_minor": 4
}
